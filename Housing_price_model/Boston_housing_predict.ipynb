{
 "cells": [
  {
   "cell_type": "code",
   "execution_count": 11,
   "id": "f659d093",
   "metadata": {},
   "outputs": [],
   "source": [
    "import numpy as np\n",
    "import pandas as pd\n",
    "from pandas import DataFrame,Series\n",
    "from sklearn.linear_model import LinearRegression, SGDRegressor\n",
    "from sklearn.datasets import load_boston\n",
    "from sklearn.preprocessing import StandardScaler\n",
    "from sklearn.model_selection import train_test_split"
   ]
  },
  {
   "cell_type": "markdown",
   "id": "ed970a2a",
   "metadata": {},
   "source": [
    "## Get Boston Data\n",
    "### Warning\n",
    "> The Boston housing prices dataset has an ethical problem. The scikit-learn maintainers therefore strongly discourage the use of this dataset unless the purpose of the code is to study and educate about ethical issues in data science and machine learning.\n"
   ]
  },
  {
   "cell_type": "code",
   "execution_count": 12,
   "id": "67032e6f",
   "metadata": {},
   "outputs": [],
   "source": [
    "def load_data():\n",
    "    boston = load_boston()\n",
    "    print (boston.DESCR)\n",
    "    X = boston[\"data\"]\n",
    "    Y = boston[\"target\"]\n",
    "    names = boston[\"feature_names\"]\n",
    "    return X,Y,names"
   ]
  },
  {
   "cell_type": "code",
   "execution_count": 13,
   "id": "d40ab06a",
   "metadata": {},
   "outputs": [
    {
     "name": "stdout",
     "output_type": "stream",
     "text": [
      ".. _boston_dataset:\n",
      "\n",
      "Boston house prices dataset\n",
      "---------------------------\n",
      "\n",
      "**Data Set Characteristics:**  \n",
      "\n",
      "    :Number of Instances: 506 \n",
      "\n",
      "    :Number of Attributes: 13 numeric/categorical predictive. Median Value (attribute 14) is usually the target.\n",
      "\n",
      "    :Attribute Information (in order):\n",
      "        - CRIM     per capita crime rate by town\n",
      "        - ZN       proportion of residential land zoned for lots over 25,000 sq.ft.\n",
      "        - INDUS    proportion of non-retail business acres per town\n",
      "        - CHAS     Charles River dummy variable (= 1 if tract bounds river; 0 otherwise)\n",
      "        - NOX      nitric oxides concentration (parts per 10 million)\n",
      "        - RM       average number of rooms per dwelling\n",
      "        - AGE      proportion of owner-occupied units built prior to 1940\n",
      "        - DIS      weighted distances to five Boston employment centres\n",
      "        - RAD      index of accessibility to radial highways\n",
      "        - TAX      full-value property-tax rate per $10,000\n",
      "        - PTRATIO  pupil-teacher ratio by town\n",
      "        - B        1000(Bk - 0.63)^2 where Bk is the proportion of black people by town\n",
      "        - LSTAT    % lower status of the population\n",
      "        - MEDV     Median value of owner-occupied homes in $1000's\n",
      "\n",
      "    :Missing Attribute Values: None\n",
      "\n",
      "    :Creator: Harrison, D. and Rubinfeld, D.L.\n",
      "\n",
      "This is a copy of UCI ML housing dataset.\n",
      "https://archive.ics.uci.edu/ml/machine-learning-databases/housing/\n",
      "\n",
      "\n",
      "This dataset was taken from the StatLib library which is maintained at Carnegie Mellon University.\n",
      "\n",
      "The Boston house-price data of Harrison, D. and Rubinfeld, D.L. 'Hedonic\n",
      "prices and the demand for clean air', J. Environ. Economics & Management,\n",
      "vol.5, 81-102, 1978.   Used in Belsley, Kuh & Welsch, 'Regression diagnostics\n",
      "...', Wiley, 1980.   N.B. Various transformations are used in the table on\n",
      "pages 244-261 of the latter.\n",
      "\n",
      "The Boston house-price data has been used in many machine learning papers that address regression\n",
      "problems.   \n",
      "     \n",
      ".. topic:: References\n",
      "\n",
      "   - Belsley, Kuh & Welsch, 'Regression diagnostics: Identifying Influential Data and Sources of Collinearity', Wiley, 1980. 244-261.\n",
      "   - Quinlan,R. (1993). Combining Instance-Based and Model-Based Learning. In Proceedings on the Tenth International Conference of Machine Learning, 236-243, University of Massachusetts, Amherst. Morgan Kaufmann.\n",
      "\n"
     ]
    },
    {
     "name": "stderr",
     "output_type": "stream",
     "text": [
      "/opt/anaconda3/lib/python3.9/site-packages/sklearn/utils/deprecation.py:87: FutureWarning: Function load_boston is deprecated; `load_boston` is deprecated in 1.0 and will be removed in 1.2.\n",
      "\n",
      "    The Boston housing prices dataset has an ethical problem. You can refer to\n",
      "    the documentation of this function for further details.\n",
      "\n",
      "    The scikit-learn maintainers therefore strongly discourage the use of this\n",
      "    dataset unless the purpose of the code is to study and educate about\n",
      "    ethical issues in data science and machine learning.\n",
      "\n",
      "    In this special case, you can fetch the dataset from the original\n",
      "    source::\n",
      "\n",
      "        import pandas as pd\n",
      "        import numpy as np\n",
      "\n",
      "        data_url = \"http://lib.stat.cmu.edu/datasets/boston\"\n",
      "        raw_df = pd.read_csv(data_url, sep=\"\\s+\", skiprows=22, header=None)\n",
      "        data = np.hstack([raw_df.values[::2, :], raw_df.values[1::2, :2]])\n",
      "        target = raw_df.values[1::2, 2]\n",
      "\n",
      "    Alternative datasets include the California housing dataset (i.e.\n",
      "    :func:`~sklearn.datasets.fetch_california_housing`) and the Ames housing\n",
      "    dataset. You can load the datasets as follows::\n",
      "\n",
      "        from sklearn.datasets import fetch_california_housing\n",
      "        housing = fetch_california_housing()\n",
      "\n",
      "    for the California housing dataset and::\n",
      "\n",
      "        from sklearn.datasets import fetch_openml\n",
      "        housing = fetch_openml(name=\"house_prices\", as_frame=True)\n",
      "\n",
      "    for the Ames housing dataset.\n",
      "  warnings.warn(msg, category=FutureWarning)\n"
     ]
    }
   ],
   "source": [
    "X,Y,names = load_data()"
   ]
  },
  {
   "cell_type": "code",
   "execution_count": 20,
   "id": "d0e6db5a",
   "metadata": {},
   "outputs": [
    {
     "data": {
      "text/plain": [
       "array([[-0.42,  0.28, ...,  0.44, -1.08],\n",
       "       [-0.42, -0.49, ...,  0.44, -0.49],\n",
       "       ...,\n",
       "       [-0.41, -0.49, ...,  0.4 , -0.87],\n",
       "       [-0.42, -0.49, ...,  0.44, -0.67]])"
      ]
     },
     "execution_count": 20,
     "metadata": {},
     "output_type": "execute_result"
    }
   ],
   "source": [
    "X"
   ]
  },
  {
   "cell_type": "code",
   "execution_count": 17,
   "id": "085f626a",
   "metadata": {},
   "outputs": [],
   "source": [
    "def scale_data(X):\n",
    "    scaler = StandardScaler()\n",
    "    X = scaler.fit_transform(X)\n",
    "    return X\n",
    "\n",
    "def split_data(X,Y):\n",
    "    X_train, X_test, Y_train, Y_test = train_test_split(X, Y, test_size=0.33, random_state=42)\n",
    "    return X_train, X_test, Y_train, Y_test"
   ]
  },
  {
   "cell_type": "code",
   "execution_count": 18,
   "id": "6cb94692",
   "metadata": {},
   "outputs": [],
   "source": [
    "np.set_printoptions(precision=2, linewidth=100, suppress=True, edgeitems=2)\n",
    "X = scale_data(X)\n",
    "X_train, X_test, Y_train, Y_test = split_data(X,Y)"
   ]
  },
  {
   "cell_type": "markdown",
   "id": "fb041802",
   "metadata": {},
   "source": [
    "## Linear Regression"
   ]
  },
  {
   "cell_type": "code",
   "execution_count": null,
   "id": "0b32d376",
   "metadata": {},
   "outputs": [],
   "source": [
    "# Create linear regression object\n",
    "linreg = LinearRegression()\n",
    "\n",
    "# Train the model using the training sets\n",
    "linreg.fit(X_train,Y_train)\n",
    "\n",
    "# Predict the values using the model\n",
    "Y_lin_predict = linreg.predict(X_test)\n",
    "print(Y_lin_predict)"
   ]
  },
  {
   "cell_type": "markdown",
   "id": "a25f8ee3",
   "metadata": {},
   "source": [
    "## Stochastic Gradient Descent."
   ]
  },
  {
   "cell_type": "code",
   "execution_count": null,
   "id": "d88cd8e8",
   "metadata": {},
   "outputs": [],
   "source": [
    "sgdreg = SGDRegressor(penalty='l2', alpha=0.15)\n",
    "\n",
    "# Train the model using the training sets\n",
    "sgdreg.fit(X_train, Y_train) \n",
    "\n",
    "# Predict the values using the model\n",
    "Y_sgdreg_predict = sgdreg.predict(X_test)\n",
    "print(Y_sgdreg_predict)"
   ]
  },
  {
   "cell_type": "markdown",
   "id": "efcc0f14",
   "metadata": {},
   "source": [
    "## Generate the joblib file"
   ]
  },
  {
   "cell_type": "code",
   "execution_count": null,
   "id": "2c8ce330",
   "metadata": {},
   "outputs": [],
   "source": [
    "import joblib\n",
    "# save the pre-trained Model to a file\n",
    "joblib.dump(linreg, 'LinearRegression.joblib')\n",
    "joblib.dump(sgdreg, 'StochasticGradientDescent.joblib')"
   ]
  },
  {
   "cell_type": "markdown",
   "id": "e89dabda",
   "metadata": {},
   "source": [
    "## How to reload the Joblib file"
   ]
  },
  {
   "cell_type": "code",
   "execution_count": null,
   "id": "20c8db3c",
   "metadata": {},
   "outputs": [],
   "source": [
    "# Load the pre-trained Model from a file\n",
    "sample_model = joblib.load('LinearRegression.joblib')\n",
    "# Make predictions\n",
    "sample_model.predict(X_test)"
   ]
  },
  {
   "cell_type": "code",
   "execution_count": null,
   "id": "d7251510",
   "metadata": {},
   "outputs": [],
   "source": []
  }
 ],
 "metadata": {
  "kernelspec": {
   "display_name": "Python 3 (ipykernel)",
   "language": "python",
   "name": "python3"
  },
  "language_info": {
   "codemirror_mode": {
    "name": "ipython",
    "version": 3
   },
   "file_extension": ".py",
   "mimetype": "text/x-python",
   "name": "python",
   "nbconvert_exporter": "python",
   "pygments_lexer": "ipython3",
   "version": "3.9.7"
  }
 },
 "nbformat": 4,
 "nbformat_minor": 5
}
